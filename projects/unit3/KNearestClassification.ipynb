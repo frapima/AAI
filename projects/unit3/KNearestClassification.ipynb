{
 "cells": [
  {
   "cell_type": "markdown",
   "metadata": {},
   "source": [
    "# K-Nearest Neighbors (KNN) Classification\n",
    "\n",
    "**KNN** is a simply algorithm that works by comparing the query instance's distance to the other training samples and selecting the K-nearest neighbors. It takes the majority of these K-neighbor classes to be the prediciton of the query instance.\n",
    "\n",
    "KNN is also sometimes used for regression in addition to classification.\n",
    "\n",
    "In this section we are going to focus on its more common use as a classification task."
   ]
  },
  {
   "cell_type": "markdown",
   "metadata": {},
   "source": [
    "First, let's import the modules that we will need:"
   ]
  },
  {
   "cell_type": "code",
   "execution_count": 2,
   "metadata": {},
   "outputs": [],
   "source": [
    "import pandas as pd\n",
    "import numpy as np\n",
    "import operator\n",
    "import seaborn as sns\n",
    "import matplotlib.pyplot as plt"
   ]
  },
  {
   "cell_type": "markdown",
   "metadata": {},
   "source": [
    "#### Plotting the points\n",
    "\n",
    "For this example, we will use a file named knn.csv containing the following data:\n",
    "\n",
    "    x,y,c\n",
    "    1,1,A\n",
    "    2,2,A\n",
    "    4,3,B\n",
    "    3,3,A\n",
    "    3,5,B\n",
    "    5,6,B\n",
    "    5,4,V\n",
    "\n",
    "Now, let's read the data and plot it:"
   ]
  },
  {
   "cell_type": "code",
   "execution_count": 3,
   "metadata": {},
   "outputs": [
    {
     "data": {
      "image/png": "[encoded data removed]",
      "text/plain": [
       "<Figure size 402.875x360 with 1 Axes>"
      ]
     },
     "metadata": {
      "needs_background": "light"
     },
     "output_type": "display_data"
    }
   ],
   "source": [
    "data = pd.read_csv(\"data/knn.csv\")\n",
    "sns.lmplot('x', 'y', data=data, hue='c', palette='Set1', fit_reg=False, scatter_kws={\"s\":70})\n",
    "plt.show()"
   ]
  },
  {
   "cell_type": "markdown",
   "metadata": {},
   "source": [
    "#### Calculating the distance between the Points\n",
    "\n",
    "In order to find the neares neighbor of a given point, you need to calculate the Euclidean distance between two points.\n",
    "\n",
    "> Given two points p(p1, p2, p3, ..., pn) and q(q1, q2, q3, ..., qn), the distance between p and q is given by the following formula:\n",
    "SQRT( (q1-p1)^2 + (q2-p2)^2 + ... + (qn-pn)^2)\n",
    "\n",
    "Based on this formula, we can define a function named `euclidean_distance()` as follows:"
   ]
  },
  {
   "cell_type": "code",
   "execution_count": 4,
   "metadata": {},
   "outputs": [],
   "source": [
    "def euclidean_distance(pt1, pt2, dimension):\n",
    "    distance=0\n",
    "    for x in range(dimension):\n",
    "        distance += np.square(pt1[x] - pt2[x])\n",
    "    return np.sqrt(distance)"
   ]
  },
  {
   "cell_type": "markdown",
   "metadata": {},
   "source": [
    "### Implementing KNN\n",
    "\n",
    "It takes the training points, the test point and the value of k:"
   ]
  },
  {
   "cell_type": "code",
   "execution_count": 5,
   "metadata": {},
   "outputs": [],
   "source": [
    "#---our own KNN model---\n",
    "def knn(training_points, test_point, k):\n",
    "    distances = {}\n",
    "    \n",
    "    #---the number of axes we are dealing with---\n",
    "    dimension = test_point.shape[1]\n",
    "    \n",
    "    #---calculating euclidean distance between each point in the training data and test data---\n",
    "    for x in range(len(training_points)):\n",
    "        dist = euclidean_distance(test_point, training_points.iloc[x], dimension)\n",
    "        \n",
    "        #---record the distance for each training point---\n",
    "        distances[x] = dist[0]\n",
    "    \n",
    "    sorted_d = sorted(distances.items(), key=operator.itemgetter(1))\n",
    "    \n",
    "    #---to store the neighbors---\n",
    "    neighbors = []\n",
    "    \n",
    "    #---extract the top k neightbors---\n",
    "    for x in range(k):\n",
    "        neighbors.append(sorted_d[x][0])\n",
    "    \n",
    "    #---for each neighbor found, find out its class---\n",
    "    class_counter = {}\n",
    "    for x in range(len(neighbors)):\n",
    "        #---find out the class for that particular point---\n",
    "        cls = training_points.iloc[neighbors[x]][-1]\n",
    "        if cls in class_counter:\n",
    "            class_counter[cls] += 1\n",
    "        else:\n",
    "            class_counter[cls] = 1\n",
    "            \n",
    "    #---sort the class_counter in descending order---\n",
    "    sorted_counter = sorted(class_counter.items(), key=operator.itemgetter(1), reverse=True)\n",
    "    \n",
    "    #---return the class with the most count, as well as the neighbors found---\n",
    "    return(sorted_counter[0][0], neighbors)\n",
    "    \n",
    "    "
   ]
  },
  {
   "cell_type": "markdown",
   "metadata": {},
   "source": [
    "The function returns the class to which the test point belongs, as well as the indices of all nearest k neighbors."
   ]
  },
  {
   "cell_type": "markdown",
   "metadata": {},
   "source": [
    "### Making predictions\n",
    "Now, we can make some predictions:"
   ]
  },
  {
   "cell_type": "code",
   "execution_count": 6,
   "metadata": {},
   "outputs": [
    {
     "name": "stdout",
     "output_type": "stream",
     "text": [
      "Predicted class: B\n"
     ]
    }
   ],
   "source": [
    "test_set = [[3, 3.9]]\n",
    "test = pd.DataFrame(test_set)\n",
    "cls, neighbors = knn(data, test, 3)\n",
    "print(\"Predicted class: \" + cls)"
   ]
  },
  {
   "cell_type": "markdown",
   "metadata": {},
   "source": [
    "#### Visualizing different values of K\n",
    "\n",
    "Visualize the effect of applying various values of K. The following code draws a serie of concentric circles around the test point based on the values of k, which range from 7 to 1, with intervals of -2:"
   ]
  },
  {
   "cell_type": "code",
   "execution_count": 7,
   "metadata": {},
   "outputs": [
    {
     "name": "stdout",
     "output_type": "stream",
     "text": [
      "=============\n",
      "k =  7\n",
      "Class A\n",
      "Neighbors\n",
      "   x  y  c\n",
      "3  3  3  A\n",
      "4  3  5  B\n",
      "2  4  3  B\n",
      "6  5  4  V\n",
      "1  2  2  A\n",
      "5  5  6  B\n",
      "0  1  1  A\n",
      "=============\n",
      "k =  5\n",
      "Class A\n",
      "Neighbors\n",
      "   x  y  c\n",
      "3  3  3  A\n",
      "4  3  5  B\n",
      "2  4  3  B\n",
      "6  5  4  V\n",
      "1  2  2  A\n",
      "=============\n",
      "k =  3\n",
      "Class B\n",
      "Neighbors\n",
      "   x  y  c\n",
      "3  3  3  A\n",
      "4  3  5  B\n",
      "2  4  3  B\n",
      "=============\n",
      "k =  1\n",
      "Class A\n",
      "Neighbors\n",
      "   x  y  c\n",
      "3  3  3  A\n"
     ]
    },
    {
     "data": {
      "image/png": "[encoded data removed]",
      "text/plain": [
       "<Figure size 432x288 with 1 Axes>"
      ]
     },
     "metadata": {
      "needs_background": "light"
     },
     "output_type": "display_data"
    }
   ],
   "source": [
    "colors = ['r' if i == 'A' else 'b' for i in data['c']]\n",
    "ax = data.plot(kind='scatter', x='x', y='y', c=colors)\n",
    "plt.xlim(0,7)\n",
    "plt.ylim(0,7)\n",
    "\n",
    "plt.plot(test_set[0][0], test_set[0][1], \"yo\", markersize='9')\n",
    "\n",
    "for k in range(7, 0, -2):\n",
    "    cls, neighbors = knn(data, test, k)\n",
    "    \n",
    "    print(\"=============\")\n",
    "    print(\"k = \", k)\n",
    "    print(\"Class\", cls)\n",
    "    print(\"Neighbors\")\n",
    "    print(data.iloc[neighbors])\n",
    "    \n",
    "    furthest_point = data.iloc[neighbors].tail(1)\n",
    "    \n",
    "    radius = euclidean_distance(test, furthest_point.iloc[0], 2)\n",
    "    \n",
    "    c = 'r' if cls=='A' else 'b'\n",
    "    circle = plt.Circle((test_set[0][0], test_set[0][1],), radius, color=c, alpha=0.3)\n",
    "    ax.add_patch(circle)\n",
    "    \n",
    "plt.gca().set_aspect('equal', adjustable='box')\n",
    "plt.show()"
   ]
  },
  {
   "cell_type": "markdown",
   "metadata": {},
   "source": [
    "### Using Scikit-Learn's KNeighborsClassifier class for KNN\n",
    "\n",
    "Now that we have manually implemented KNN in Python. let's use the implementation provided by Scikit-Learn.\n",
    "\n",
    "The following code load the Iris dataset and plots it out using a scatter plot:"
   ]
  },
  {
   "cell_type": "code",
   "execution_count": 8,
   "metadata": {},
   "outputs": [
    {
     "data": {
      "image/png": "[encoded data removed]",
      "text/plain": [
       "<Figure size 432x288 with 1 Axes>"
      ]
     },
     "metadata": {
      "needs_background": "light"
     },
     "output_type": "display_data"
    }
   ],
   "source": [
    "%matplotlib inline\n",
    "import matplotlib.patches as mpatches\n",
    "from sklearn import svm, datasets\n",
    "\n",
    "iris = datasets.load_iris()\n",
    "\n",
    "X = iris.data[:, :2]\n",
    "y = iris.target\n",
    "\n",
    "colors = ['red', 'green', 'blue']\n",
    "\n",
    "for color, i, target in zip(colors, [0, 1, 2], iris.target_names):\n",
    "    plt.scatter(X[y==i, 0], X[y==i, 1], color=color, label=target)\n",
    "    \n",
    "plt.xlabel('Sepal length')\n",
    "plt.ylabel('Sepal width')\n",
    "plt.legend(loc='best', shadow=False, scatterpoints=1)\n",
    "\n",
    "plt.title('Scatter plot of Sepal width against Sepal length')\n",
    "plt.show()"
   ]
  },
  {
   "cell_type": "markdown",
   "metadata": {},
   "source": [
    "Let's train a model with `KNeighborsClassifier`, for start, let's use a `k` of `1`."
   ]
  },
  {
   "cell_type": "code",
   "execution_count": 9,
   "metadata": {},
   "outputs": [
    {
     "name": "stdout",
     "output_type": "stream",
     "text": [
      "(array([0, 1, 2]), array([50, 51, 49]))\n"
     ]
    },
    {
     "data": {
      "image/png": "[encoded data removed]",
      "text/plain": [
       "<Figure size 432x288 with 1 Axes>"
      ]
     },
     "metadata": {
      "needs_background": "light"
     },
     "output_type": "display_data"
    }
   ],
   "source": [
    "from sklearn.neighbors import KNeighborsClassifier\n",
    "\n",
    "k = 1\n",
    "\n",
    "knn = KNeighborsClassifier(n_neighbors=k)\n",
    "\n",
    "knn.fit(X, y)\n",
    "\n",
    "x_min, x_max = X[:, 0].min() - 1, X[:, 0].max() + 1\n",
    "y_min, y_max = X[:, 1].min() - 1, X[:, 1].max() + 1\n",
    "\n",
    "h = (x_max / x_min) / 100\n",
    "\n",
    "xx, yy = np.meshgrid(np.arange(x_min, x_max, h),\n",
    "                    np.arange(y_min, y_max, h))\n",
    "\n",
    "Z = knn.predict(np.c_[xx.ravel(), yy.ravel()])\n",
    "\n",
    "Z = Z.reshape(xx.shape)\n",
    "plt.contourf(xx, yy, Z, cmap=plt.cm.Accent, alpha=0.8)\n",
    "\n",
    "colors = ['red', 'green', 'blue']\n",
    "for color, i, target in zip(colors, [0, 1, 2], iris.target_names):\n",
    "    plt.scatter(X[y==i, 0], X[y==i, 1], color=color, label=target)\n",
    "\n",
    "plt.xlabel('Sepal length')\n",
    "plt.ylabel('Sepal width')\n",
    "plt.title(f'KNN (k={k})')\n",
    "plt.legend(loc='best', shadow=False, scatterpoints=1)\n",
    "\n",
    "predictions = knn.predict(X)\n",
    "\n",
    "#--Classification based on predictions--\n",
    "print(np.unique(predictions, return_counts=True))"
   ]
  },
  {
   "cell_type": "markdown",
   "metadata": {},
   "source": [
    "### How to find out the ideal value of`k`? -> Cross-Validation\n",
    "\n",
    "Instead of using part of the data for training and part of the data for testing, we can split our data into k-folds and terain the model k-times, rotating the training and the testing sets. So now, each point of data is used for training and testing.\n",
    "\n",
    "> Do not confuse the k in k-folds with the k in KNN - they are not related.\n",
    "\n",
    "At the end of each run, the model is scored, and at the end of k runs, the score is averaged. This iscore will give us information of how well our algorithm performs.\n",
    "\n",
    "> The idea of cross-validation is not training our model, is to test how good it is. It is useful when we compare various algorithms to see how they perform given a dataset. Once the algorithm is chosen, we will use all of the data for the training model.\n",
    "\n",
    "##### Parameter-Tuning K\n",
    "\n",
    "Now, let's apply cross-validation to our Iris dataset using 10 folds. We will do it for each value of k:"
   ]
  },
  {
   "cell_type": "code",
   "execution_count": 10,
   "metadata": {},
   "outputs": [
    {
     "name": "stdout",
     "output_type": "stream",
     "text": [
      "1 0.96\n",
      "2 0.9533333333333334\n",
      "4 0.9666666666666666\n",
      "5 0.9666666666666668\n",
      "7 0.9666666666666668\n",
      "8 0.9666666666666668\n",
      "10 0.9666666666666668\n",
      "11 0.9666666666666668\n",
      "13 0.9800000000000001\n",
      "14 0.9733333333333334\n",
      "16 0.9733333333333334\n",
      "17 0.9733333333333334\n",
      "19 0.9733333333333334\n",
      "20 0.9800000000000001\n",
      "22 0.9666666666666666\n",
      "23 0.9733333333333334\n",
      "25 0.9666666666666666\n",
      "26 0.96\n",
      "28 0.9533333333333334\n",
      "29 0.9533333333333334\n",
      "31 0.9466666666666667\n",
      "32 0.9466666666666667\n",
      "34 0.9466666666666667\n",
      "35 0.9466666666666667\n",
      "37 0.9466666666666667\n",
      "38 0.9466666666666667\n",
      "40 0.9533333333333334\n",
      "41 0.9533333333333334\n",
      "43 0.9466666666666667\n",
      "44 0.9400000000000001\n",
      "46 0.9333333333333333\n",
      "47 0.9333333333333333\n",
      "49 0.9400000000000001\n",
      "50 0.9266666666666667\n",
      "52 0.9333333333333333\n",
      "53 0.9333333333333333\n",
      "55 0.9333333333333333\n",
      "56 0.9066666666666666\n",
      "58 0.9133333333333334\n",
      "59 0.9200000000000002\n",
      "61 0.9199999999999999\n",
      "62 0.9066666666666666\n",
      "64 0.9\n",
      "65 0.9\n",
      "67 0.8866666666666667\n",
      "68 0.8800000000000001\n",
      "70 0.8866666666666667\n",
      "71 0.8866666666666667\n",
      "73 0.8933333333333333\n",
      "74 0.8866666666666667\n",
      "76 0.8800000000000001\n",
      "77 0.8866666666666667\n",
      "79 0.8866666666666667\n",
      "80 0.8933333333333333\n",
      "82 0.9000000000000001\n",
      "83 0.8800000000000001\n",
      "85 0.8733333333333334\n",
      "86 0.8800000000000001\n",
      "88 0.8733333333333334\n",
      "89 0.8800000000000001\n",
      "91 0.6599999999999999\n",
      "92 0.6599999999999999\n",
      "94 0.6599999999999999\n",
      "95 0.6599999999999999\n",
      "97 0.6599999999999999\n",
      "98 0.6599999999999999\n",
      "100 0.6599999999999999\n",
      "101 0.6599999999999999\n",
      "103 0.6599999999999999\n",
      "104 0.6599999999999999\n",
      "106 0.6599999999999999\n",
      "107 0.6599999999999999\n",
      "109 0.6599999999999999\n",
      "110 0.6533333333333332\n",
      "112 0.6466666666666665\n",
      "113 0.6466666666666665\n",
      "115 0.6466666666666665\n",
      "116 0.6466666666666665\n",
      "118 0.6399999999999999\n",
      "119 0.6399999999999999\n",
      "121 0.6399999999999999\n",
      "122 0.6399999999999999\n",
      "124 0.6399999999999999\n",
      "125 0.6333333333333332\n",
      "127 0.6266666666666666\n",
      "128 0.6199999999999999\n",
      "130 0.6066666666666667\n",
      "131 0.5933333333333332\n",
      "133 0.5666666666666667\n",
      "134 0.5533333333333333\n"
     ]
    }
   ],
   "source": [
    "from sklearn.model_selection import cross_val_score\n",
    "\n",
    "#--- holds the cv scores ---\n",
    "cv_scores = []\n",
    "\n",
    "#--- use all features ---\n",
    "X = iris.data[:, :4]\n",
    "y = iris.target\n",
    "\n",
    "#--- number of folds ---\n",
    "folds = 10\n",
    "\n",
    "#--- creating odd list of K for KNN ---\n",
    "ks = list(range(1, int(len(X) * ((folds - 1) / folds))))\n",
    "\n",
    "#--- remove all multiples of 3 ---\n",
    "ks = [k for k in ks if k % 3 != 0]\n",
    "\n",
    "#--- perform k-fold cross-validation ---\n",
    "for k in ks:\n",
    "    knn = KNeighborsClassifier(n_neighbors=k)\n",
    "    \n",
    "    #--- performs cross-validation and returns the average accuracy---\n",
    "    scores = cross_val_score(knn, X, y, cv=folds, scoring='accuracy')\n",
    "    mean = scores.mean()\n",
    "    cv_scores.append(mean)\n",
    "    print(k, mean)"
   ]
  },
  {
   "cell_type": "markdown",
   "metadata": {},
   "source": [
    "For KNN, tnere are three rules to which we must adhere:\n",
    "- The value of k cannot exceed the number of rows for training\n",
    "- The value of k should be an odd number for a two class problem\n",
    "- The value of k must not be a multiple of the number of classes\n",
    "\n",
    "Hence, the value of k in the preceding code contains 134 values.\n",
    "\n",
    "#### Finding the optimal K\n",
    "\n",
    "Simply find the value with highest accuracy. Or, in this case, the lowest missclassification error (MSE). Let's plot a line chart of MSE against k:"
   ]
  },
  {
   "cell_type": "code",
   "execution_count": 11,
   "metadata": {},
   "outputs": [
    {
     "name": "stdout",
     "output_type": "stream",
     "text": [
      "The optimal number of neighbors is 13\n"
     ]
    },
    {
     "data": {
      "image/png": "[encoded data removed]",
      "text/plain": [
       "<Figure size 432x288 with 1 Axes>"
      ]
     },
     "metadata": {
      "needs_background": "light"
     },
     "output_type": "display_data"
    }
   ],
   "source": [
    "MSE = [1 - x for x in cv_scores]\n",
    "\n",
    "optimal_k = ks[MSE.index(min(MSE))]\n",
    "print(f\"The optimal number of neighbors is {optimal_k}\")\n",
    "\n",
    "plt.plot(ks, MSE)\n",
    "plt.xlabel('Number of Neighbors K')\n",
    "plt.ylabel('Missclassification Error')\n",
    "plt.show()"
   ]
  },
  {
   "cell_type": "markdown",
   "metadata": {},
   "source": [
    "### Summary\n",
    "\n",
    "We have learned how KNN works and how to derive the optimal k value that minimizes the miscalculation of errors."
   ]
  }
 ],
 "metadata": {
  "kernelspec": {
   "display_name": "Python 3",
   "language": "python",
   "name": "python3"
  },
  "language_info": {
   "codemirror_mode": {
    "name": "ipython",
    "version": 3
   },
   "file_extension": ".py",
   "mimetype": "text/x-python",
   "name": "python",
   "nbconvert_exporter": "python",
   "pygments_lexer": "ipython3",
   "version": "3.7.5"
  }
 },
 "nbformat": 4,
 "nbformat_minor": 4
}
