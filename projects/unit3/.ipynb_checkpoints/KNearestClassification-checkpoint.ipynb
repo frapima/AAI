{
 "cells": [
  {
   "cell_type": "markdown",
   "metadata": {},
   "source": [
    "# K-Nearest Neighbors (KNN) Classification\n",
    "\n",
    "**KNN** is a simply algorithm that works by comparing the query instance's distance to the other training samples and selecting the K-nearest neighbors. It takes the majority of these K-neighbor classes to be the prediciton of the query instance.\n",
    "\n",
    "KNN is also sometimes used for regression in addition to classification.\n",
    "\n",
    "In this section we are going to focus on its more common use as a classification task."
   ]
  },
  {
   "cell_type": "markdown",
   "metadata": {},
   "source": [
    "First, let's import the modules that we will need:"
   ]
  },
  {
   "cell_type": "code",
   "execution_count": 1,
   "metadata": {},
   "outputs": [],
   "source": [
    "import pandas as pd\n",
    "import numpy as np\n",
    "import operator\n",
    "import seaborn as sns\n",
    "import matplotlib.pyplot as plt"
   ]
  },
  {
   "cell_type": "markdown",
   "metadata": {},
   "source": [
    "#### Plotting the points\n",
    "\n",
    "For this example, we will use a file named knn.csv containing the following data:\n",
    "\n",
    "    x,y,c\n",
    "    1,1,A\n",
    "    2,2,A\n",
    "    4,3,B\n",
    "    3,3,A\n",
    "    3,5,B\n",
    "    5,6,B\n",
    "    5,4,V\n",
    "\n",
    "Now, let's read the data and plot it:"
   ]
  },
  {
   "cell_type": "code",
   "execution_count": 2,
   "metadata": {},
   "outputs": [
    {
     "data": {
      "image/png": "[encoded data removed]",
      "text/plain": [
       "<Figure size 402.875x360 with 1 Axes>"
      ]
     },
     "metadata": {
      "needs_background": "light"
     },
     "output_type": "display_data"
    }
   ],
   "source": [
    "data = pd.read_csv(\"data/knn.csv\")\n",
    "sns.lmplot('x', 'y', data=data, hue='c', palette='Set1', fit_reg=False, scatter_kws={\"s\":70})\n",
    "plt.show()"
   ]
  },
  {
   "cell_type": "markdown",
   "metadata": {},
   "source": [
    "#### Calculating the distance between the Points\n",
    "\n",
    "In order to find the neares neighbor of a given point, you need to calculate the Euclidean distance between two points.\n",
    "\n",
    "> Given two points p(p1, p2, p3, ..., pn) and q(q1, q2, q3, ..., qn), the distance between p and q is given by the following formula:\n",
    "SQRT( (q1-p1)^2 + (q2-p2)^2 + ... + (qn-pn)^2)\n",
    "\n",
    "Based on this formula, we can define a function named `euclidean_distance()` as follows:"
   ]
  },
  {
   "cell_type": "code",
   "execution_count": 4,
   "metadata": {},
   "outputs": [],
   "source": [
    "def euclidean_distance(pt1, pt2, dimension):\n",
    "    distance=0\n",
    "    for x in range(dimension):\n",
    "        distance += np.square(pt1[x] - pt2[x])\n",
    "    return np.sqrt(distance)"
   ]
  },
  {
   "cell_type": "markdown",
   "metadata": {},
   "source": [
    "### Implementing KNN\n",
    "\n",
    "It takes the training points, the test point and the value of k:"
   ]
  },
  {
   "cell_type": "code",
   "execution_count": 8,
   "metadata": {},
   "outputs": [],
   "source": [
    "#---our own KNN model---\n",
    "def knn(training_points, test_point, k):\n",
    "    distances = {}\n",
    "    \n",
    "    #---the number of axes we are dealing with---\n",
    "    dimension = test_point.shape[1]\n",
    "    \n",
    "    #---calculating euclidean distance between each point in the training data and test data---\n",
    "    for x in range(len(training_points)):\n",
    "        dist = euclidean_distance(test_point, training_points.iloc[x], dimension)\n",
    "        \n",
    "        #---record the distance for each training point---\n",
    "        distances[x] = dist[0]\n",
    "    \n",
    "    sorted_d = sorted(distances.items(), key=operator.itemgetter(1))\n",
    "    \n",
    "    #---to store the neighbors---\n",
    "    neighbors = []\n",
    "    \n",
    "    #---extract the top k neightbors---\n",
    "    for x in range(k):\n",
    "        neighbors.append(sorted_d[x][0])\n",
    "    \n",
    "    #---for each neighbor found, find out its class---\n",
    "    class_counter = {}\n",
    "    for x in range(len(neighbors)):\n",
    "        #---find out the class for that particular point---\n",
    "        cls = training_points.iloc[neighbors[x]][-1]\n",
    "        if cls in class_counter:\n",
    "            class_counter[cls] += 1\n",
    "        else:\n",
    "            class_counter[cls] = 1\n",
    "            \n",
    "    #---sort the class_counter in descending order---\n",
    "    sorted_counter = sorted(class_counter.items(), key=operator.itemgetter(1), reverse=True)\n",
    "    \n",
    "    #---return the class with the most count, as well as the neighbors found---\n",
    "    return(sorted_counter[0][0], neighbors)\n",
    "    \n",
    "    "
   ]
  },
  {
   "cell_type": "markdown",
   "metadata": {},
   "source": [
    "The function returns the class to which the test point belongs, as well as the indices of all nearest k neighbors."
   ]
  },
  {
   "cell_type": "markdown",
   "metadata": {},
   "source": [
    "### Making predictions\n",
    "Now, we can make some predictions:"
   ]
  },
  {
   "cell_type": "code",
   "execution_count": 9,
   "metadata": {},
   "outputs": [
    {
     "name": "stdout",
     "output_type": "stream",
     "text": [
      "Predicted class: A\n"
     ]
    }
   ],
   "source": [
    "test_set = [[3, 3.9]]\n",
    "test = pd.DataFrame(test_set)\n",
    "cls, neighbors = knn(data, test, 5)\n",
    "print(\"Predicted class: \" + cls)"
   ]
  },
  {
   "cell_type": "code",
   "execution_count": null,
   "metadata": {},
   "outputs": [],
   "source": []
  }
 ],
 "metadata": {
  "kernelspec": {
   "display_name": "Python 3",
   "language": "python",
   "name": "python3"
  },
  "language_info": {
   "codemirror_mode": {
    "name": "ipython",
    "version": 3
   },
   "file_extension": ".py",
   "mimetype": "text/x-python",
   "name": "python",
   "nbconvert_exporter": "python",
   "pygments_lexer": "ipython3",
   "version": "3.7.5"
  }
 },
 "nbformat": 4,
 "nbformat_minor": 4
}
