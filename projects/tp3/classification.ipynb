{
 "cells": [
  {
   "cell_type": "markdown",
   "metadata": {},
   "source": [
    "# TP3 - SVM\n",
    "### Estudiante: Francisco Javier Piqueras Martínez\n",
    "### Ejercicio de Clasificación de los datos AirBnb\n",
    "\n",
    "Pasos:\n",
    "- 1. Estudio estadístico y limpieza de datos\n",
    "- 2. Clasificación sobre el campo room_type usando SVC y LinearSVC\n",
    "- 3. Afinación con de hiperparámetros\n",
    "- 4. Resultado"
   ]
  },
  {
   "cell_type": "code",
   "execution_count": null,
   "metadata": {},
   "outputs": [],
   "source": [
    "import os\n",
    "import pandas as pd\n",
    "import numpy as np\n",
    "\n",
    "from sklearn.model_selection import StratifiedShuffleSplit, cross_val_score, GridSearchCV\n",
    "from sklearn.preprocessing import OneHotEncoder,OrdinalEncoder, StandardScaler\n",
    "from sklearn.compose import ColumnTransformer\n",
    "from sklearn.pipeline import Pipeline\n",
    "from sklearn.svm import LinearSVC, SVC\n",
    "from sklearn.metrics import confusion_matrix"
   ]
  },
  {
   "cell_type": "code",
   "execution_count": null,
   "metadata": {},
   "outputs": [],
   "source": [
    "airbnb_data = pd.read_csv(os.path.join(\"data\",\"airbnb.csv\"))"
   ]
  },
  {
   "cell_type": "code",
   "execution_count": null,
   "metadata": {},
   "outputs": [],
   "source": [
    "airbnb_data.head()"
   ]
  },
  {
   "cell_type": "markdown",
   "metadata": {},
   "source": [
    "### 1. Estudio estadístico y limpieza de datos"
   ]
  },
  {
   "cell_type": "markdown",
   "metadata": {},
   "source": [
    "En primer lugar observamos los distintos valores de la variable `room_type`"
   ]
  },
  {
   "cell_type": "code",
   "execution_count": null,
   "metadata": {},
   "outputs": [],
   "source": [
    "print(airbnb_data['room_type'].unique())"
   ]
  },
  {
   "cell_type": "markdown",
   "metadata": {},
   "source": [
    "Y vemos el balanceo de las mismas:"
   ]
  },
  {
   "cell_type": "code",
   "execution_count": null,
   "metadata": {},
   "outputs": [],
   "source": [
    "airbnb_data.groupby(\"room_type\").size()"
   ]
  },
  {
   "cell_type": "markdown",
   "metadata": {},
   "source": [
    "A la hora de entrenar el modelo, es conveniente saber si las clases están balanceadas o no. En este caso, comprobamos que no lo están."
   ]
  },
  {
   "cell_type": "markdown",
   "metadata": {},
   "source": [
    "En primer lugar, vamos a eliminar variables que hagan ruido, como es el caso de neighbourhood. Esta, nos da la localización de la vivienda, al igual que neighbourhood group. Por experiencia en la realización del trabajo prático 1, el modelo funciona mejor con neighbourhood_group que con neighbourhood, por lo que vamos a dejar la primera y a eliminar la segunda."
   ]
  },
  {
   "cell_type": "code",
   "execution_count": null,
   "metadata": {},
   "outputs": [],
   "source": [
    "airbnb = airbnb_data.drop(\"neighbourhood\", 1, inplace=False)"
   ]
  },
  {
   "cell_type": "markdown",
   "metadata": {},
   "source": [
    "Ahora, vamos a echarle un ojo al resto de variables (tipos, cantidad, etc):"
   ]
  },
  {
   "cell_type": "code",
   "execution_count": null,
   "metadata": {},
   "outputs": [],
   "source": [
    "airbnb.info()"
   ]
  },
  {
   "cell_type": "markdown",
   "metadata": {},
   "source": [
    "Como se puede observar, todas las variables tienen 13321, por lo que no hay ningún valor faltante."
   ]
  },
  {
   "cell_type": "markdown",
   "metadata": {},
   "source": [
    "A continuación, separamos el dataset creando el training set (80%) y el text set (20%):"
   ]
  },
  {
   "cell_type": "code",
   "execution_count": null,
   "metadata": {},
   "outputs": [],
   "source": [
    "split = StratifiedShuffleSplit(n_splits=1, test_size=0.2, random_state=38)\n",
    "\n",
    "for id_train, id_test in split.split(airbnb, airbnb[\"room_type\"]):\n",
    "    train_set, test_set = airbnb.loc[id_train], airbnb.loc[id_test]\n",
    "\n",
    "y_train = train_set[\"room_type\"]\n",
    "X_train = train_set.drop(\"room_type\", 1, inplace=False) \n",
    "y_test = test_set[\"room_type\"]\n",
    "X_test = test_set.drop(\"room_type\", 1, inplace=False)"
   ]
  },
  {
   "cell_type": "markdown",
   "metadata": {},
   "source": [
    "A continuación, escalamos los valores numéricos y usamos OneHotEncoder para \"dummificar\" las variables categóricas. El motivo por el que uso OneHotEnconder y no OrdinalEncoder es porque usando el segundo, estamos asignando números a las categorías e indicando que cieetas categorias están relacionadas cuando no existe esta relación. Por lo que intuyo que el entrenamiento del modelo podría ser erróneo."
   ]
  },
  {
   "cell_type": "code",
   "execution_count": null,
   "metadata": {},
   "outputs": [],
   "source": [
    "airbnb_categorical = [\"neighbourhood_group\"]\n",
    "airbnb_numerical = [\"latitude\",\"longitude\",\"price\",\"minimum_nights\",\"number_of_reviews\",\"reviews_per_month\",\"calculated_host_listings_count\",\"availability_365\"]\n",
    "airbnb_label = [\"room_type\"]\n",
    "\n",
    "airbnb_col_transformer = ColumnTransformer([\n",
    "    (\"num_parser\", StandardScaler(), airbnb_numerical),\n",
    "    (\"cat_parser\", OneHotEncoder(), airbnb_categorical),\n",
    "])"
   ]
  },
  {
   "cell_type": "code",
   "execution_count": null,
   "metadata": {},
   "outputs": [],
   "source": [
    "airbnb_train_pipeline_svc = Pipeline([\n",
    "    (\"col_transformer\", airbnb_col_transformer),\n",
    "    (\"train\", SVC())\n",
    "])\n",
    "\n",
    "airbnb_train_pipeline_linearsvc = Pipeline([\n",
    "    (\"col_transformer\", airbnb_col_transformer),\n",
    "    (\"train\", LinearSVC())\n",
    "])"
   ]
  },
  {
   "cell_type": "markdown",
   "metadata": {},
   "source": [
    "### 2. Clasificación sobre el campo room_type usando SVC y LinearSVC"
   ]
  },
  {
   "cell_type": "markdown",
   "metadata": {},
   "source": [
    "Seguidamente, clasificamos nuestros datos haciendo uso de SVC"
   ]
  },
  {
   "cell_type": "code",
   "execution_count": null,
   "metadata": {},
   "outputs": [],
   "source": [
    "cross_val_score(airbnb_train_pipeline_svc, X_train, y_train, cv=5, scoring=\"accuracy\", n_jobs=1)"
   ]
  },
  {
   "cell_type": "markdown",
   "metadata": {},
   "source": [
    "Y bueno, nada mal. Ahora vamos a clasificarlos con LinearSVC:"
   ]
  },
  {
   "cell_type": "code",
   "execution_count": null,
   "metadata": {},
   "outputs": [],
   "source": [
    "cross_val_score(airbnb_train_pipeline_linearsvc, X_train, y_train, cv=5, scoring=\"accuracy\", n_jobs=1)"
   ]
  },
  {
   "cell_type": "markdown",
   "metadata": {},
   "source": [
    "A primera vista, funciona mejor el SVC que el linearSVC."
   ]
  },
  {
   "cell_type": "markdown",
   "metadata": {},
   "source": [
    "### 3.  Afinación de hiperparámetros"
   ]
  },
  {
   "cell_type": "markdown",
   "metadata": {},
   "source": [
    "Vamos a buscar los mejores valores gamma y c para nuestro modelo con kernel=RBF.\n",
    "\n",
    "Para ello, vamos a realizar las dos búsquedas, una más abierta, y luego una reducida en la zona de mejores resultados para afinar los hiperparámetros."
   ]
  },
  {
   "cell_type": "code",
   "execution_count": null,
   "metadata": {},
   "outputs": [],
   "source": [
    "airbnb_train_pipeline_svc.get_params().keys()"
   ]
  },
  {
   "cell_type": "code",
   "execution_count": null,
   "metadata": {},
   "outputs": [],
   "source": [
    "grid_first_params = {\n",
    "    'train__C' : np.logspace(-15, 15, base=2, num=5),\n",
    "    'train__gamma' : np.logspace(-15, 15, base=2, num=5),\n",
    "    'train__kernel' : ['rbf'],\n",
    "    'train__class_weight' : ['balanced']\n",
    "}\n",
    "\n",
    "grid_first_search = GridSearchCV(airbnb_train_pipeline_svc, grid_first_params, cv=10, n_jobs=-1)\n",
    "\n",
    "grid_first_result = grid_first_search.fit(X_train, y_train)\n",
    "\n",
    "#{'model__C': 32768.0,  -> 2^15\n",
    "# 'model__class_weight': 'balanced',\n",
    "# 'model__gamma': 0.005524271728019903,  -> 2^-7.5\n",
    "# 'model__kernel': 'rbf'}"
   ]
  },
  {
   "cell_type": "code",
   "execution_count": null,
   "metadata": {},
   "outputs": [],
   "source": [
    "grid_first_result.best_params_"
   ]
  },
  {
   "cell_type": "markdown",
   "metadata": {},
   "source": [
    "Reajustamos C para y gamma para afinar un poco más los hiperparámetros"
   ]
  },
  {
   "cell_type": "code",
   "execution_count": null,
   "metadata": {},
   "outputs": [],
   "source": [
    "grid_second_params = {\n",
    "    'train__C' : np.logspace(10, 20, base=2, num=5),\n",
    "    'train__gamma' : np.logspace(-10, 0, base=2, num=5),\n",
    "    'train__kernel' : ['rbf'],\n",
    "    'train__class_weight' : ['balanced']\n",
    "}\n",
    "\n",
    "grid_second_search = GridSearchCV(airbnb_train_pipeline_svc, grid_second_params, cv=10, n_jobs=-1, verbose=True)\n",
    "\n",
    "grid_second_result = grid_second_search.fit(X_train, y_train)"
   ]
  },
  {
   "cell_type": "code",
   "execution_count": null,
   "metadata": {
    "scrolled": true
   },
   "outputs": [],
   "source": [
    "grid_second_result.best_params_"
   ]
  },
  {
   "cell_type": "markdown",
   "metadata": {},
   "source": [
    "c = 2^15 gamma = 2^-5"
   ]
  },
  {
   "cell_type": "markdown",
   "metadata": {},
   "source": [
    "Hacemos una última iteración:"
   ]
  },
  {
   "cell_type": "code",
   "execution_count": null,
   "metadata": {},
   "outputs": [],
   "source": [
    "grid_third_params = {\n",
    "    'train__C' : np.logspace(14.5, 15.5, base=2, num=5),\n",
    "    'train__gamma' : np.logspace(-8, -4, base=2, num=5),\n",
    "    'train__kernel' : ['rbf'],\n",
    "    'train__class_weight' : ['balanced']\n",
    "}\n",
    "\n",
    "grid_third_search = GridSearchCV(airbnb_train_pipeline_svc, grid_first_params, cv=10, n_jobs=-1)\n",
    "\n",
    "grid_third_result = grid_first_search.fit(X_train, y_train)\n",
    "\n"
   ]
  },
  {
   "cell_type": "code",
   "execution_count": null,
   "metadata": {},
   "outputs": [],
   "source": [
    "grid_third_result.best_params_"
   ]
  },
  {
   "cell_type": "markdown",
   "metadata": {},
   "source": [
    "\n",
    "c = 2^15.5\n",
    "\n",
    "gamma = 2^-5"
   ]
  },
  {
   "cell_type": "code",
   "execution_count": null,
   "metadata": {},
   "outputs": [],
   "source": [
    "airbnb_best_c = grid_third_result.best_params_['train__C']"
   ]
  },
  {
   "cell_type": "code",
   "execution_count": null,
   "metadata": {},
   "outputs": [],
   "source": [
    "airbnb_best_gamma = grid_third_result.best_params_['train__gamma']"
   ]
  },
  {
   "cell_type": "markdown",
   "metadata": {},
   "source": [
    "### 4. Resultado"
   ]
  },
  {
   "cell_type": "markdown",
   "metadata": {},
   "source": [
    "Finalmente, creamos nuestro modelo con los hiperparámetros que hemos obtenido y vemos los resultados obtenidos:"
   ]
  },
  {
   "cell_type": "code",
   "execution_count": null,
   "metadata": {},
   "outputs": [],
   "source": [
    "y_test = train_set[\"room_type\"]\n",
    "x_test = test_set.drop(\"room_type\", 1, inplace=False)"
   ]
  },
  {
   "cell_type": "code",
   "execution_count": null,
   "metadata": {},
   "outputs": [],
   "source": [
    "airbnb_train_pipeline_svc = Pipeline([\n",
    "    (\"col_transformer\", airbnb_col_transformer),\n",
    "    (\"test\", SVC(C=airbnb_best_c, gamma=airbnb_best_gamma))\n",
    "])\n",
    "\n",
    "airbnb_train_pipeline_svc.fit(X_train, y_train)\n",
    "airbnb_train_pipeline_svc_prediction = airbnb_train_pipeline_svc.predict(X_test)\n",
    "\n",
    "confusion_matrix(y_test, airbnb_train_pipeline_svc_prediction)"
   ]
  }
 ],
 "metadata": {
  "kernelspec": {
   "display_name": "Python 3",
   "language": "python",
   "name": "python3"
  },
  "language_info": {
   "codemirror_mode": {
    "name": "ipython",
    "version": 3
   },
   "file_extension": ".py",
   "mimetype": "text/x-python",
   "name": "python",
   "nbconvert_exporter": "python",
   "pygments_lexer": "ipython3",
   "version": "3.6.12"
  }
 },
 "nbformat": 4,
 "nbformat_minor": 2
}
