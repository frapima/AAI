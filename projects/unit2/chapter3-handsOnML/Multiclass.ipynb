{
 "cells": [
  {
   "cell_type": "markdown",
   "metadata": {},
   "source": [
    "# Chapter 3 - Classification\n",
    "## MNIST dataset \n",
    "### Multiclass Classification\n",
    "\n",
    "There are 2 strategies that can be used to perform multiclass classification with multiple binay classifiers:\n",
    "- **OvR strategy** (One versus Rest). Create a system that classifies imagen into 10 classes (from 0 to 9): 0-detector, 1-detector, 2-detector,...\n",
    "    - Then you get the decision for each classifier and the highest score class is chosen.\n",
    "- **OvO strategy** (One versus One). Train a binary classifier for every pair of digits.\n",
    "    - If there are N classes, you'll need to train `N * (N - 1) / 2` classifiers, but, it just has to be trained for the part of the training set for the two classes it must distinguish.\n",
    "    \n",
    "Scikit learn detecs when you are trying to do a multiclass classification and it runs OvR or OvO depending on the algorithm."
   ]
  },
  {
   "cell_type": "code",
   "execution_count": 1,
   "metadata": {},
   "outputs": [],
   "source": [
    "import warnings\n",
    "warnings.simplefilter(action='ignore', category=FutureWarning)"
   ]
  },
  {
   "cell_type": "markdown",
   "metadata": {},
   "source": [
    "We download the dataset from fetch_openml"
   ]
  },
  {
   "cell_type": "code",
   "execution_count": 2,
   "metadata": {},
   "outputs": [
    {
     "data": {
      "text/plain": [
       "dict_keys(['data', 'target', 'feature_names', 'DESCR', 'details', 'categories', 'url'])"
      ]
     },
     "execution_count": 2,
     "metadata": {},
     "output_type": "execute_result"
    }
   ],
   "source": [
    "from sklearn.datasets import fetch_openml\n",
    "mnist = fetch_openml('mnist_784', version=1)\n",
    "mnist.keys()"
   ]
  },
  {
   "cell_type": "markdown",
   "metadata": {},
   "source": [
    "Let's create the following variables:\n",
    "- `X`: contains the full dataset\n",
    "- `y`: contains the labels\n",
    "- `X_train`: Training set\n",
    "- `X_test`: Test set\n",
    "- `y_train`: Labels training set\n",
    "- `y_test`: Labels test set"
   ]
  },
  {
   "cell_type": "code",
   "execution_count": 3,
   "metadata": {},
   "outputs": [],
   "source": [
    "import numpy as np\n",
    "X, y = mnist[\"data\"], mnist[\"target\"]\n",
    "y = y.astype(np.uint8)\n",
    "X_train, X_test, y_train, y_test = X[:60000], X[60000:], y[:60000], y[60000:]\n",
    "\n",
    "some_digit = X[0]"
   ]
  },
  {
   "cell_type": "markdown",
   "metadata": {},
   "source": [
    "##### Support Vector Machine Classifier (`sklearn.smv.SVC`)\n",
    "\n",
    "The steps are the following\n",
    "\n",
    "    from sklearn.svm import SVC\n",
    "\n",
    "    svm_clf = SVC()\n",
    "    svm_clf.fit(X_train, y_train)\n",
    "    svm_clf.predict([some_digit])\n",
    "\n",
    "\n",
    "> We can also see the scores for each class by running: `svm_clf.decision_scores([some_digit])`\n",
    "> See also de resulto of the following command: `svm_clf.classes_`\n",
    "\n",
    "\n",
    "Also, it can be run deciding manually if use OVR or OVO:\n",
    "\n",
    "\n",
    "    from sklearn.svm import SVC\n",
    "    from sklearn.multiclass import OneVsRestClassifier\n",
    "\n",
    "    ovr_svm_clf = OneVsRestClassifier(SVC())\n",
    "    ovr_svm_clf.fit(X_train, y_train)\n",
    "    ovr_svm_clf.predict([some_digit])\n",
    "\n",
    "    len(ovr_svm_clf.estimators_)\n",
    "\n",
    "\n",
    "It ¡t also can be done with OvR strategy (`OneVsOneClassificator`)"
   ]
  },
  {
   "cell_type": "markdown",
   "metadata": {},
   "source": [
    "Now, let's do it with SGDC classificator:"
   ]
  },
  {
   "cell_type": "code",
   "execution_count": null,
   "metadata": {},
   "outputs": [],
   "source": [
    "from sklearn.linear_model import SGDClassifier\n",
    "\n",
    "sgd_clf = SGDClassifier(random_state=42)\n",
    "sgd_clf.fit(X_train, y_train)"
   ]
  },
  {
   "cell_type": "code",
   "execution_count": null,
   "metadata": {},
   "outputs": [],
   "source": [
    "sgd_clf.decision_function([some_digit])"
   ]
  },
  {
   "cell_type": "markdown",
   "metadata": {},
   "source": [
    "And we perform the cross validation of it:"
   ]
  },
  {
   "cell_type": "code",
   "execution_count": null,
   "metadata": {},
   "outputs": [],
   "source": [
    "from sklearn.model_selection import cross_val_score\n",
    "cross_val_score(sgd_clf, X_train, y_train, cv=3, scoring=\"accuracy\")"
   ]
  },
  {
   "cell_type": "markdown",
   "metadata": {},
   "source": [
    "And we scale the inputs to get more accuracy:"
   ]
  },
  {
   "cell_type": "code",
   "execution_count": null,
   "metadata": {},
   "outputs": [],
   "source": [
    "from sklearn.preprocessing import StandardScaler\n",
    "scaler = StandardScaler()\n",
    "X_train_scaled = scaler.fit_transform(X_train.astype(np.float64))\n",
    "cross_val_score(sgd_clf, X_train_scaled, y_train, cv=3, scoring=\"accuracy\")"
   ]
  },
  {
   "cell_type": "markdown",
   "metadata": {},
   "source": [
    "### Error analysis\n",
    "\n",
    "Looking the cnofusion matrix, we can see which are the most confusing values:"
   ]
  },
  {
   "cell_type": "code",
   "execution_count": null,
   "metadata": {},
   "outputs": [],
   "source": [
    "from sklearn.metrics import confusion_matrix\n",
    "from sklearn.model_selection import cross_val_predict\n",
    "y_train_pred = cross_val_predict(sgd_clf, X_train_scaled, y_train, cv=3)\n",
    "conf_mx = confusion_matrix(y_train, y_train_pred)\n",
    "conf_mx"
   ]
  },
  {
   "cell_type": "markdown",
   "metadata": {},
   "source": [
    "Let's see it through Matplotlib's `matshow()` function in order to analyze it easier:"
   ]
  },
  {
   "cell_type": "code",
   "execution_count": null,
   "metadata": {},
   "outputs": [],
   "source": [
    "import matplotlib as mpl\n",
    "import matplotlib.pyplot as plt\n",
    "\n",
    "plt.matshow(conf_mx, cmap=plt.cm.gray)\n",
    "plt.show()"
   ]
  },
  {
   "cell_type": "markdown",
   "metadata": {},
   "source": [
    "It looks pretty good, since most images on the main diagonal, but 5s looks darker.\n",
    "\n",
    "Let's focus on the errors. \n",
    "\n",
    "- First we need to divide each value by the number of images in the corresponding class so that you can compare error rates instead of absolute numbers of errors.\n",
    "- Then, we fill the diagonal with 0s to keep only the errors."
   ]
  },
  {
   "cell_type": "code",
   "execution_count": null,
   "metadata": {},
   "outputs": [],
   "source": [
    "row_sums = conf_mx.sum(axis=1, keepdims=True)\n",
    "norm_conf_mx = conf_mx / row_sums\n",
    "\n",
    "np.fill_diagonal(norm_conf_mx, 0)\n",
    "plt.matshow(norm_conf_mx, cmap=plt.cm.gray)\n",
    "plt.show()"
   ]
  },
  {
   "cell_type": "markdown",
   "metadata": {},
   "source": [
    "It's clearly seen that the 8 is the most confusing number."
   ]
  }
 ],
 "metadata": {
  "kernelspec": {
   "display_name": "Python 3",
   "language": "python",
   "name": "python3"
  },
  "language_info": {
   "codemirror_mode": {
    "name": "ipython",
    "version": 3
   },
   "file_extension": ".py",
   "mimetype": "text/x-python",
   "name": "python",
   "nbconvert_exporter": "python",
   "pygments_lexer": "ipython3",
   "version": "3.7.5"
  }
 },
 "nbformat": 4,
 "nbformat_minor": 4
}
